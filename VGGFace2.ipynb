{
 "cells": [
  {
   "cell_type": "code",
   "execution_count": 0,
   "metadata": {
    "id": "lsFYYuvzC88G",
    "colab_type": "code",
    "outputId": "9f90d226-32e5-45c6-b565-db16c14e5b8d",
    "executionInfo": {
     "status": "ok",
     "timestamp": 1.566372024012E12,
     "user_tz": -120.0,
     "elapsed": 11269.0,
     "user": {
      "displayName": "Christophe Grihon",
      "photoUrl": "",
      "userId": "17281359019211225799"
     }
    },
    "colab": {
     "base_uri": "https://localhost:8080/",
     "height": 377.0
    }
   },
   "outputs": [
    {
     "name": "stdout",
     "output_type": "stream",
     "text": [
      "Collecting git+https://github.com/rcmalli/keras-vggface.git\n",
      "  Cloning https://github.com/rcmalli/keras-vggface.git to /tmp/pip-req-build-0g368mb4\n",
      "  Running command git clone -q https://github.com/rcmalli/keras-vggface.git /tmp/pip-req-build-0g368mb4\n",
      "Requirement already satisfied: numpy>=1.9.1 in /usr/local/lib/python3.6/dist-packages (from keras-vggface==0.6) (1.16.4)\n",
      "Requirement already satisfied: scipy>=0.14 in /usr/local/lib/python3.6/dist-packages (from keras-vggface==0.6) (1.3.1)\n",
      "Requirement already satisfied: h5py in /usr/local/lib/python3.6/dist-packages (from keras-vggface==0.6) (2.8.0)\n",
      "Requirement already satisfied: pillow in /usr/local/lib/python3.6/dist-packages (from keras-vggface==0.6) (4.3.0)\n",
      "Requirement already satisfied: keras in /usr/local/lib/python3.6/dist-packages (from keras-vggface==0.6) (2.2.4)\n",
      "Requirement already satisfied: six>=1.9.0 in /usr/local/lib/python3.6/dist-packages (from keras-vggface==0.6) (1.12.0)\n",
      "Requirement already satisfied: pyyaml in /usr/local/lib/python3.6/dist-packages (from keras-vggface==0.6) (3.13)\n",
      "Requirement already satisfied: olefile in /usr/local/lib/python3.6/dist-packages (from pillow->keras-vggface==0.6) (0.46)\n",
      "Requirement already satisfied: keras-applications>=1.0.6 in /usr/local/lib/python3.6/dist-packages (from keras->keras-vggface==0.6) (1.0.8)\n",
      "Requirement already satisfied: keras-preprocessing>=1.0.5 in /usr/local/lib/python3.6/dist-packages (from keras->keras-vggface==0.6) (1.1.0)\n",
      "Building wheels for collected packages: keras-vggface\n",
      "  Building wheel for keras-vggface (setup.py) ... \u001b[?25l\u001b[?25hdone\n",
      "  Created wheel for keras-vggface: filename=keras_vggface-0.6-cp36-none-any.whl size=8311 sha256=0401f5071c82e56005e4d140aa6181de72554a8ebb5d9b0c01a432da3afa0a29\n",
      "  Stored in directory: /tmp/pip-ephem-wheel-cache-5medkfrt/wheels/36/07/46/06c25ce8e9cd396dabe151ea1d8a2bc28dafcb11321c1f3a6d\n",
      "Successfully built keras-vggface\n",
      "Installing collected packages: keras-vggface\n",
      "Successfully installed keras-vggface-0.6\n"
     ]
    }
   ],
   "source": [
    "pip install git+https://github.com/rcmalli/keras-vggface.git"
   ]
  },
  {
   "cell_type": "code",
   "execution_count": 0,
   "metadata": {
    "id": "ctAO--_mDAMx",
    "colab_type": "code",
    "outputId": "48b0348a-ef88-4287-e274-0f406d27ea66",
    "executionInfo": {
     "status": "ok",
     "timestamp": 1.566372085828E12,
     "user_tz": -120.0,
     "elapsed": 5299.0,
     "user": {
      "displayName": "Christophe Grihon",
      "photoUrl": "",
      "userId": "17281359019211225799"
     }
    },
    "colab": {
     "base_uri": "https://localhost:8080/",
     "height": 197.0
    }
   },
   "outputs": [
    {
     "name": "stdout",
     "output_type": "stream",
     "text": [
      "Name: keras-vggface\n",
      "Version: 0.6\n",
      "Summary: VGGFace implementation with Keras framework\n",
      "Home-page: https://github.com/rcmalli/keras-vggface\n",
      "Author: Refik Can MALLI\n",
      "Author-email: mallir@itu.edu.tr\n",
      "License: MIT\n",
      "Location: /usr/local/lib/python3.6/dist-packages\n",
      "Requires: h5py, numpy, six, scipy, keras, pyyaml, pillow\n",
      "Required-by: \n"
     ]
    }
   ],
   "source": [
    "pip show keras-vggface"
   ]
  },
  {
   "cell_type": "code",
   "execution_count": 0,
   "metadata": {
    "id": "YOauMSKfDSpz",
    "colab_type": "code",
    "outputId": "ad685126-123f-4f8f-f80d-8e6de027fff6",
    "executionInfo": {
     "status": "ok",
     "timestamp": 1.566372130474E12,
     "user_tz": -120.0,
     "elapsed": 8590.0,
     "user": {
      "displayName": "Christophe Grihon",
      "photoUrl": "",
      "userId": "17281359019211225799"
     }
    },
    "colab": {
     "base_uri": "https://localhost:8080/",
     "height": 197.0
    }
   },
   "outputs": [
    {
     "name": "stdout",
     "output_type": "stream",
     "text": [
      "Collecting mtcnn\n",
      "\u001b[?25l  Downloading https://files.pythonhosted.org/packages/9e/c7/8546b18fbd367b156c5bbbbaa8912ab31c8129171523ff8b47b546d70b09/mtcnn-0.0.9.tar.gz (2.3MB)\n",
      "\u001b[K     |████████████████████████████████| 2.3MB 2.8MB/s \n",
      "\u001b[?25hBuilding wheels for collected packages: mtcnn\n",
      "  Building wheel for mtcnn (setup.py) ... \u001b[?25l\u001b[?25hdone\n",
      "  Created wheel for mtcnn: filename=mtcnn-0.0.9-cp36-none-any.whl size=2257692 sha256=a6b9f75f3a77cdde5e949974b483c2dae7103c682bf0edeab4a8cf35b0660835\n",
      "  Stored in directory: /root/.cache/pip/wheels/85/81/65/6363fa5aafd7a155c896591e0c7c6e27b69642aa82b9cbf076\n",
      "Successfully built mtcnn\n",
      "Installing collected packages: mtcnn\n",
      "Successfully installed mtcnn-0.0.9\n"
     ]
    }
   ],
   "source": [
    "pip install mtcnn"
   ]
  },
  {
   "cell_type": "code",
   "execution_count": 0,
   "metadata": {
    "id": "nbH7k6kgDcvo",
    "colab_type": "code",
    "outputId": "9e1cc9bc-7587-4101-9c9b-d77fd50cdeb4",
    "executionInfo": {
     "status": "ok",
     "timestamp": 1.56637214641E12,
     "user_tz": -120.0,
     "elapsed": 1328.0,
     "user": {
      "displayName": "Christophe Grihon",
      "photoUrl": "",
      "userId": "17281359019211225799"
     }
    },
    "colab": {
     "base_uri": "https://localhost:8080/",
     "height": 35.0
    }
   },
   "outputs": [
    {
     "name": "stdout",
     "output_type": "stream",
     "text": [
      "0.0.9\n"
     ]
    }
   ],
   "source": [
    "# confirm mtcnn was installed correctly\n",
    "import mtcnn\n",
    "# print version\n",
    "print(mtcnn.__version__)"
   ]
  },
  {
   "cell_type": "code",
   "execution_count": 0,
   "metadata": {
    "id": "DjshK0OYEGBl",
    "colab_type": "code",
    "outputId": "f11e3ef7-8999-42fd-9b53-0ac1e708308c",
    "executionInfo": {
     "status": "ok",
     "timestamp": 1.566372434091E12,
     "user_tz": -120.0,
     "elapsed": 4231.0,
     "user": {
      "displayName": "Christophe Grihon",
      "photoUrl": "",
      "userId": "17281359019211225799"
     }
    },
    "colab": {
     "base_uri": "https://localhost:8080/",
     "height": 215.0
    }
   },
   "outputs": [
    {
     "name": "stdout",
     "output_type": "stream",
     "text": [
      "--2019-08-21 07:27:11--  https://upload.wikimedia.org/wikipedia/commons/6/6e/Sharon_Stone_Cannes_2013_2.jpg\n",
      "Resolving upload.wikimedia.org (upload.wikimedia.org)... 103.102.166.240, 2001:df2:e500:ed1a::2:b\n",
      "Connecting to upload.wikimedia.org (upload.wikimedia.org)|103.102.166.240|:443... connected.\n",
      "HTTP request sent, awaiting response... 200 OK\n",
      "Length: 82711 (81K) [image/jpeg]\n",
      "Saving to: ‘Sharon_Stone_Cannes_2013_2.jpg’\n",
      "\n",
      "\r          Sharon_St   0%[                    ]       0  --.-KB/s               \rSharon_Stone_Cannes 100%[===================>]  80.77K  --.-KB/s    in 0.1s    \n",
      "\n",
      "2019-08-21 07:27:11 (738 KB/s) - ‘Sharon_Stone_Cannes_2013_2.jpg’ saved [82711/82711]\n",
      "\n"
     ]
    }
   ],
   "source": [
    "!wget https://upload.wikimedia.org/wikipedia/commons/6/6e/Sharon_Stone_Cannes_2013_2.jpg"
   ]
  },
  {
   "cell_type": "code",
   "execution_count": 0,
   "metadata": {
    "id": "msO92Jc8D3z5",
    "colab_type": "code",
    "outputId": "e0607c30-b75b-45ce-ce08-21e75c9f1cf3",
    "executionInfo": {
     "status": "ok",
     "timestamp": 1.566372451409E12,
     "user_tz": -120.0,
     "elapsed": 9498.0,
     "user": {
      "displayName": "Christophe Grihon",
      "photoUrl": "",
      "userId": "17281359019211225799"
     }
    },
    "colab": {
     "base_uri": "https://localhost:8080/",
     "height": 667.0
    }
   },
   "outputs": [
    {
     "name": "stderr",
     "output_type": "stream",
     "text": [
      "WARNING: Logging before flag parsing goes to stderr.\n",
      "W0821 07:27:22.145853 140586219177856 deprecation_wrapper.py:119] From /usr/local/lib/python3.6/dist-packages/mtcnn/mtcnn.py:187: The name tf.ConfigProto is deprecated. Please use tf.compat.v1.ConfigProto instead.\n",
      "\n",
      "W0821 07:27:22.181038 140586219177856 deprecation_wrapper.py:119] From /usr/local/lib/python3.6/dist-packages/mtcnn/mtcnn.py:193: The name tf.Session is deprecated. Please use tf.compat.v1.Session instead.\n",
      "\n",
      "W0821 07:27:23.421305 140586219177856 deprecation_wrapper.py:119] From /usr/local/lib/python3.6/dist-packages/mtcnn/network.py:43: The name tf.variable_scope is deprecated. Please use tf.compat.v1.variable_scope instead.\n",
      "\n",
      "W0821 07:27:23.423357 140586219177856 deprecation_wrapper.py:119] From /usr/local/lib/python3.6/dist-packages/mtcnn/layer_factory.py:88: The name tf.placeholder is deprecated. Please use tf.compat.v1.placeholder instead.\n",
      "\n",
      "W0821 07:27:23.437407 140586219177856 deprecation_wrapper.py:119] From /usr/local/lib/python3.6/dist-packages/mtcnn/layer_factory.py:79: The name tf.get_variable is deprecated. Please use tf.compat.v1.get_variable instead.\n",
      "\n",
      "W0821 07:27:23.439403 140586219177856 deprecation.py:506] From /usr/local/lib/python3.6/dist-packages/tensorflow/python/ops/init_ops.py:1251: calling VarianceScaling.__init__ (from tensorflow.python.ops.init_ops) with dtype is deprecated and will be removed in a future version.\n",
      "Instructions for updating:\n",
      "Call initializer instance with the dtype argument instead of passing it to the constructor\n",
      "W0821 07:27:23.492155 140586219177856 deprecation_wrapper.py:119] From /usr/local/lib/python3.6/dist-packages/mtcnn/layer_factory.py:171: The name tf.nn.max_pool is deprecated. Please use tf.nn.max_pool2d instead.\n",
      "\n",
      "W0821 07:27:23.593139 140586219177856 deprecation.py:323] From /usr/local/lib/python3.6/dist-packages/mtcnn/layer_factory.py:221: div (from tensorflow.python.ops.math_ops) is deprecated and will be removed in a future version.\n",
      "Instructions for updating:\n",
      "Deprecated in favor of operator or tf.math.divide.\n",
      "W0821 07:27:25.643088 140586219177856 deprecation_wrapper.py:119] From /usr/local/lib/python3.6/dist-packages/mtcnn/layer_factory.py:196: The name tf.nn.xw_plus_b is deprecated. Please use tf.compat.v1.nn.xw_plus_b instead.\n",
      "\n"
     ]
    },
    {
     "data": {
      "image/png": "[encoded data removed]",
      "text/plain": [
       "<Figure size 432x288 with 1 Axes>"
      ]
     },
     "metadata": {
      "tags": []
     },
     "output_type": "display_data"
    }
   ],
   "source": [
    "# example of face detection with mtcnn\n",
    "from matplotlib import pyplot\n",
    "from PIL import Image\n",
    "from numpy import asarray\n",
    "from mtcnn.mtcnn import MTCNN\n",
    "\n",
    "# extract a single face from a given photograph\n",
    "def extract_face(filename, required_size=(224, 224)):\n",
    "\t# load image from file\n",
    "\tpixels = pyplot.imread(filename)\n",
    "\t# create the detector, using default weights\n",
    "\tdetector = MTCNN()\n",
    "\t# detect faces in the image\n",
    "\tresults = detector.detect_faces(pixels)\n",
    "\t# extract the bounding box from the first face\n",
    "\tx1, y1, width, height = results[0]['box']\n",
    "\tx2, y2 = x1 + width, y1 + height\n",
    "\t# extract the face\n",
    "\tface = pixels[y1:y2, x1:x2]\n",
    "\t# resize pixels to the model size\n",
    "\timage = Image.fromarray(face)\n",
    "\timage = image.resize(required_size)\n",
    "\tface_array = asarray(image)\n",
    "\treturn face_array\n",
    "\n",
    "# load the photo and extract the face\n",
    "pixels = extract_face('Sharon_Stone_Cannes_2013_2.jpg')\n",
    "# plot the extracted face\n",
    "pyplot.imshow(pixels)\n",
    "# show the plot\n",
    "pyplot.show()"
   ]
  },
  {
   "cell_type": "code",
   "execution_count": 0,
   "metadata": {
    "id": "a5rBRG8pD8hu",
    "colab_type": "code",
    "outputId": "c7824aad-6732-4c9d-d0f9-3e8c7842a85a",
    "executionInfo": {
     "status": "ok",
     "timestamp": 1.566372566112E12,
     "user_tz": -120.0,
     "elapsed": 31545.0,
     "user": {
      "displayName": "Christophe Grihon",
      "photoUrl": "",
      "userId": "17281359019211225799"
     }
    },
    "colab": {
     "base_uri": "https://localhost:8080/",
     "height": 271.0
    }
   },
   "outputs": [
    {
     "name": "stderr",
     "output_type": "stream",
     "text": [
      "W0821 07:28:56.793421 140586219177856 deprecation_wrapper.py:119] From /usr/local/lib/python3.6/dist-packages/keras/backend/tensorflow_backend.py:1834: The name tf.nn.fused_batch_norm is deprecated. Please use tf.compat.v1.nn.fused_batch_norm instead.\n",
      "\n",
      "W0821 07:29:02.432503 140586219177856 deprecation_wrapper.py:119] From /usr/local/lib/python3.6/dist-packages/keras/backend/tensorflow_backend.py:3980: The name tf.nn.avg_pool is deprecated. Please use tf.nn.avg_pool2d instead.\n",
      "\n"
     ]
    },
    {
     "name": "stdout",
     "output_type": "stream",
     "text": [
      "Downloading data from https://github.com/rcmalli/keras-vggface/releases/download/v2.0/rcmalli_vggface_tf_resnet50.h5\n",
      "165445632/165439116 [==============================] - 14s 0us/step\n",
      "Downloading data from https://github.com/rcmalli/keras-vggface/releases/download/v2.0/rcmalli_vggface_labels_v2.npy\n",
      "1351680/1346516 [==============================] - 1s 1us/step\n",
      "b' Sharon_Stone': 99.642%\n",
      "b' Noelle_Reno': 0.085%\n",
      "b' Elisabeth_R\\xc3\\xb6hm': 0.033%\n",
      "b' Anita_Lipnicka': 0.026%\n",
      "b' Tina_Maze': 0.019%\n"
     ]
    }
   ],
   "source": [
    "# Example of face detection with a vggface2 model\n",
    "from numpy import expand_dims\n",
    "from matplotlib import pyplot\n",
    "from PIL import Image\n",
    "from numpy import asarray\n",
    "from mtcnn.mtcnn import MTCNN\n",
    "from keras_vggface.vggface import VGGFace\n",
    "from keras_vggface.utils import preprocess_input\n",
    "from keras_vggface.utils import decode_predictions\n",
    "\n",
    "# extract a single face from a given photograph\n",
    "def extract_face(filename, required_size=(224, 224)):\n",
    "\t# load image from file\n",
    "\tpixels = pyplot.imread(filename)\n",
    "\t# create the detector, using default weights\n",
    "\tdetector = MTCNN()\n",
    "\t# detect faces in the image\n",
    "\tresults = detector.detect_faces(pixels)\n",
    "\t# extract the bounding box from the first face\n",
    "\tx1, y1, width, height = results[0]['box']\n",
    "\tx2, y2 = x1 + width, y1 + height\n",
    "\t# extract the face\n",
    "\tface = pixels[y1:y2, x1:x2]\n",
    "\t# resize pixels to the model size\n",
    "\timage = Image.fromarray(face)\n",
    "\timage = image.resize(required_size)\n",
    "\tface_array = asarray(image)\n",
    "\treturn face_array\n",
    "\n",
    "# load the photo and extract the face\n",
    "pixels = extract_face('Sharon_Stone_Cannes_2013_2.jpg')\n",
    "# convert one face into samples\n",
    "pixels = pixels.astype('float32')\n",
    "samples = expand_dims(pixels, axis=0)\n",
    "# prepare the face for the model, e.g. center pixels\n",
    "samples = preprocess_input(samples, version=2)\n",
    "# create a vggface model\n",
    "model = VGGFace(model='resnet50')\n",
    "# perform prediction\n",
    "yhat = model.predict(samples)\n",
    "# convert prediction into names\n",
    "results = decode_predictions(yhat)\n",
    "# display most likely results\n",
    "for result in results[0]:\n",
    "\tprint('%s: %.3f%%' % (result[0], result[1]*100))"
   ]
  },
  {
   "cell_type": "code",
   "execution_count": 0,
   "metadata": {
    "id": "QlXDDp9kE8eA",
    "colab_type": "code",
    "outputId": "ca751afc-5b7a-4b4a-a1d1-dd846ef1d0fd",
    "executionInfo": {
     "status": "ok",
     "timestamp": 1.566372615356E12,
     "user_tz": -120.0,
     "elapsed": 3403.0,
     "user": {
      "displayName": "Christophe Grihon",
      "photoUrl": "",
      "userId": "17281359019211225799"
     }
    },
    "colab": {
     "base_uri": "https://localhost:8080/",
     "height": 215.0
    }
   },
   "outputs": [
    {
     "name": "stdout",
     "output_type": "stream",
     "text": [
      "--2019-08-21 07:30:13--  https://upload.wikimedia.org/wikipedia/commons/8/8d/Channing_Tatum_by_Gage_Skidmore_3.jpg\n",
      "Resolving upload.wikimedia.org (upload.wikimedia.org)... 103.102.166.240, 2001:df2:e500:ed1a::2:b\n",
      "Connecting to upload.wikimedia.org (upload.wikimedia.org)|103.102.166.240|:443... connected.\n",
      "HTTP request sent, awaiting response... 200 OK\n",
      "Length: 2835168 (2.7M) [image/jpeg]\n",
      "Saving to: ‘Channing_Tatum_by_Gage_Skidmore_3.jpg’\n",
      "\n",
      "\r          Channing_   0%[                    ]       0  --.-KB/s               \r         Channing_T   8%[>                   ] 246.77K  1.18MB/s               \rChanning_Tatum_by_G 100%[===================>]   2.70M  7.08MB/s    in 0.4s    \n",
      "\n",
      "2019-08-21 07:30:13 (7.08 MB/s) - ‘Channing_Tatum_by_Gage_Skidmore_3.jpg’ saved [2835168/2835168]\n",
      "\n"
     ]
    }
   ],
   "source": [
    "!wget https://upload.wikimedia.org/wikipedia/commons/8/8d/Channing_Tatum_by_Gage_Skidmore_3.jpg"
   ]
  },
  {
   "cell_type": "code",
   "execution_count": 0,
   "metadata": {
    "id": "bxw1X_nqFUZK",
    "colab_type": "code",
    "outputId": "c3eaf51b-33d9-4e92-fe7c-5f9efbe12d89",
    "executionInfo": {
     "status": "ok",
     "timestamp": 1.566372681331E12,
     "user_tz": -120.0,
     "elapsed": 17294.0,
     "user": {
      "displayName": "Christophe Grihon",
      "photoUrl": "",
      "userId": "17281359019211225799"
     }
    },
    "colab": {
     "base_uri": "https://localhost:8080/",
     "height": 107.0
    }
   },
   "outputs": [
    {
     "name": "stdout",
     "output_type": "stream",
     "text": [
      "b' Channing_Tatum': 90.705%\n",
      "b' Les_Miles': 0.274%\n",
      "b' Eoghan_Quigg': 0.193%\n",
      "b' Nico_Rosberg': 0.136%\n",
      "b' Venke_Knutson': 0.127%\n"
     ]
    }
   ],
   "source": [
    "# Example of face detection with a vggface2 model\n",
    "from numpy import expand_dims\n",
    "from matplotlib import pyplot\n",
    "from PIL import Image\n",
    "from numpy import asarray\n",
    "from mtcnn.mtcnn import MTCNN\n",
    "from keras_vggface.vggface import VGGFace\n",
    "from keras_vggface.utils import preprocess_input\n",
    "from keras_vggface.utils import decode_predictions\n",
    "\n",
    "# extract a single face from a given photograph\n",
    "def extract_face(filename, required_size=(224, 224)):\n",
    "\t# load image from file\n",
    "\tpixels = pyplot.imread(filename)\n",
    "\t# create the detector, using default weights\n",
    "\tdetector = MTCNN()\n",
    "\t# detect faces in the image\n",
    "\tresults = detector.detect_faces(pixels)\n",
    "\t# extract the bounding box from the first face\n",
    "\tx1, y1, width, height = results[0]['box']\n",
    "\tx2, y2 = x1 + width, y1 + height\n",
    "\t# extract the face\n",
    "\tface = pixels[y1:y2, x1:x2]\n",
    "\t# resize pixels to the model size\n",
    "\timage = Image.fromarray(face)\n",
    "\timage = image.resize(required_size)\n",
    "\tface_array = asarray(image)\n",
    "\treturn face_array\n",
    "\n",
    "# load the photo and extract the face\n",
    "pixels = extract_face('Channing_Tatum_by_Gage_Skidmore_3.jpg')\n",
    "# convert one face into samples\n",
    "pixels = pixels.astype('float32')\n",
    "samples = expand_dims(pixels, axis=0)\n",
    "# prepare the face for the model, e.g. center pixels\n",
    "samples = preprocess_input(samples, version=2)\n",
    "# create a vggface model\n",
    "model = VGGFace(model='resnet50')\n",
    "# perform prediction\n",
    "yhat = model.predict(samples)\n",
    "# convert prediction into names\n",
    "results = decode_predictions(yhat)\n",
    "# display most likely results\n",
    "for result in results[0]:\n",
    "\tprint('%s: %.3f%%' % (result[0], result[1]*100))"
   ]
  },
  {
   "cell_type": "code",
   "execution_count": 0,
   "metadata": {
    "id": "ZuUvL60xGP66",
    "colab_type": "code",
    "outputId": "c224be7d-4ebc-43cc-cda7-10872192d92f",
    "executionInfo": {
     "status": "ok",
     "timestamp": 1.566372887221E12,
     "user_tz": -120.0,
     "elapsed": 4056.0,
     "user": {
      "displayName": "Christophe Grihon",
      "photoUrl": "",
      "userId": "17281359019211225799"
     }
    },
    "colab": {
     "base_uri": "https://localhost:8080/",
     "height": 215.0
    }
   },
   "outputs": [
    {
     "name": "stdout",
     "output_type": "stream",
     "text": [
      "--2019-08-21 07:34:44--  https://3qeqpr26caki16dnhd19sv6by6v-wpengine.netdna-ssl.com/wp-content/uploads/2019/03/sharon_stone2.jpg\n",
      "Resolving 3qeqpr26caki16dnhd19sv6by6v-wpengine.netdna-ssl.com (3qeqpr26caki16dnhd19sv6by6v-wpengine.netdna-ssl.com)... 151.139.105.8\n",
      "Connecting to 3qeqpr26caki16dnhd19sv6by6v-wpengine.netdna-ssl.com (3qeqpr26caki16dnhd19sv6by6v-wpengine.netdna-ssl.com)|151.139.105.8|:443... connected.\n",
      "HTTP request sent, awaiting response... 200 OK\n",
      "Length: 38658 (38K) [image/jpeg]\n",
      "Saving to: ‘sharon_stone2.jpg’\n",
      "\n",
      "sharon_stone2.jpg   100%[===================>]  37.75K  --.-KB/s    in 0.03s   \n",
      "\n",
      "2019-08-21 07:34:45 (1.19 MB/s) - ‘sharon_stone2.jpg’ saved [38658/38658]\n",
      "\n"
     ]
    }
   ],
   "source": [
    "!wget https://3qeqpr26caki16dnhd19sv6by6v-wpengine.netdna-ssl.com/wp-content/uploads/2019/03/sharon_stone2.jpg"
   ]
  },
  {
   "cell_type": "code",
   "execution_count": 0,
   "metadata": {
    "id": "Wpm-e_dnGYQn",
    "colab_type": "code",
    "outputId": "838bd3cb-0a04-4b03-cb1c-80a234b37a8e",
    "executionInfo": {
     "status": "ok",
     "timestamp": 1.56637291508E12,
     "user_tz": -120.0,
     "elapsed": 3634.0,
     "user": {
      "displayName": "Christophe Grihon",
      "photoUrl": "",
      "userId": "17281359019211225799"
     }
    },
    "colab": {
     "base_uri": "https://localhost:8080/",
     "height": 215.0
    }
   },
   "outputs": [
    {
     "name": "stdout",
     "output_type": "stream",
     "text": [
      "--2019-08-21 07:35:12--  https://3qeqpr26caki16dnhd19sv6by6v-wpengine.netdna-ssl.com/wp-content/uploads/2019/03/sharon_stone3.jpg\n",
      "Resolving 3qeqpr26caki16dnhd19sv6by6v-wpengine.netdna-ssl.com (3qeqpr26caki16dnhd19sv6by6v-wpengine.netdna-ssl.com)... 151.139.105.8\n",
      "Connecting to 3qeqpr26caki16dnhd19sv6by6v-wpengine.netdna-ssl.com (3qeqpr26caki16dnhd19sv6by6v-wpengine.netdna-ssl.com)|151.139.105.8|:443... connected.\n",
      "HTTP request sent, awaiting response... 200 OK\n",
      "Length: 4352336 (4.2M) [image/jpeg]\n",
      "Saving to: ‘sharon_stone3.jpg’\n",
      "\n",
      "\rsharon_stone3.jpg     0%[                    ]       0  --.-KB/s               \rsharon_stone3.jpg   100%[===================>]   4.15M  --.-KB/s    in 0.1s    \n",
      "\n",
      "2019-08-21 07:35:12 (41.6 MB/s) - ‘sharon_stone3.jpg’ saved [4352336/4352336]\n",
      "\n"
     ]
    }
   ],
   "source": [
    "!wget https://3qeqpr26caki16dnhd19sv6by6v-wpengine.netdna-ssl.com/wp-content/uploads/2019/03/sharon_stone3.jpg"
   ]
  },
  {
   "cell_type": "code",
   "execution_count": 0,
   "metadata": {
    "id": "8xKE8UwxFhGT",
    "colab_type": "code",
    "outputId": "f178a57d-9f96-42d9-e2bb-22bfe943ff24",
    "executionInfo": {
     "status": "ok",
     "timestamp": 1.566373058997E12,
     "user_tz": -120.0,
     "elapsed": 36558.0,
     "user": {
      "displayName": "Christophe Grihon",
      "photoUrl": "",
      "userId": "17281359019211225799"
     }
    },
    "colab": {
     "base_uri": "https://localhost:8080/",
     "height": 143.0
    }
   },
   "outputs": [
    {
     "name": "stdout",
     "output_type": "stream",
     "text": [
      "Downloading data from https://github.com/rcmalli/keras-vggface/releases/download/v2.0/rcmalli_vggface_tf_notop_resnet50.h5\n",
      "94699520/94694792 [==============================] - 7s 0us/step\n",
      "Positive Tests\n",
      ">face is a Match (0.418 <= 0.500)\n",
      ">face is a Match (0.295 <= 0.500)\n",
      "Negative Tests\n",
      ">face is NOT a Match (0.710 > 0.500)\n"
     ]
    }
   ],
   "source": [
    "# face verification with the VGGFace2 model\n",
    "from matplotlib import pyplot\n",
    "from PIL import Image\n",
    "from numpy import asarray\n",
    "from scipy.spatial.distance import cosine\n",
    "from mtcnn.mtcnn import MTCNN\n",
    "from keras_vggface.vggface import VGGFace\n",
    "from keras_vggface.utils import preprocess_input\n",
    "\n",
    "# extract a single face from a given photograph\n",
    "def extract_face(filename, required_size=(224, 224)):\n",
    "\t# load image from file\n",
    "\tpixels = pyplot.imread(filename)\n",
    "\t# create the detector, using default weights\n",
    "\tdetector = MTCNN()\n",
    "\t# detect faces in the image\n",
    "\tresults = detector.detect_faces(pixels)\n",
    "\t# extract the bounding box from the first face\n",
    "\tx1, y1, width, height = results[0]['box']\n",
    "\tx2, y2 = x1 + width, y1 + height\n",
    "\t# extract the face\n",
    "\tface = pixels[y1:y2, x1:x2]\n",
    "\t# resize pixels to the model size\n",
    "\timage = Image.fromarray(face)\n",
    "\timage = image.resize(required_size)\n",
    "\tface_array = asarray(image)\n",
    "\treturn face_array\n",
    "\n",
    "# extract faces and calculate face embeddings for a list of photo files\n",
    "def get_embeddings(filenames):\n",
    "\t# extract faces\n",
    "\tfaces = [extract_face(f) for f in filenames]\n",
    "\t# convert into an array of samples\n",
    "\tsamples = asarray(faces, 'float32')\n",
    "\t# prepare the face for the model, e.g. center pixels\n",
    "\tsamples = preprocess_input(samples, version=2)\n",
    "\t# create a vggface model\n",
    "\tmodel = VGGFace(model='resnet50', include_top=False, input_shape=(224, 224, 3), pooling='avg')\n",
    "\t# perform prediction\n",
    "\tyhat = model.predict(samples)\n",
    "\treturn yhat\n",
    "\n",
    "# determine if a candidate face is a match for a known face\n",
    "def is_match(known_embedding, candidate_embedding, thresh=0.5):\n",
    "\t# calculate distance between embeddings\n",
    "\tscore = cosine(known_embedding, candidate_embedding)\n",
    "\tif score <= thresh:\n",
    "\t\tprint('>face is a Match (%.3f <= %.3f)' % (score, thresh))\n",
    "\telse:\n",
    "\t\tprint('>face is NOT a Match (%.3f > %.3f)' % (score, thresh))\n",
    "\n",
    "# define filenames\n",
    "filenames = ['Sharon_Stone_Cannes_2013_2.jpg', 'sharon_stone2.jpg',\n",
    "\t'sharon_stone3.jpg', 'Channing_Tatum_by_Gage_Skidmore_3.jpg']\n",
    "# get embeddings file filenames\n",
    "embeddings = get_embeddings(filenames)\n",
    "# define sharon stone\n",
    "sharon_id = embeddings[0]\n",
    "# verify known photos of sharon\n",
    "print('Positive Tests')\n",
    "is_match(embeddings[0], embeddings[1])\n",
    "is_match(embeddings[0], embeddings[2])\n",
    "# verify known photos of other people\n",
    "print('Negative Tests')\n",
    "is_match(embeddings[0], embeddings[3])"
   ]
  }
 ],
 "metadata": {
  "colab": {
   "name": "VGGFace2.ipynb",
   "version": "0.3.2",
   "provenance": []
  },
  "kernelspec": {
   "name": "python3",
   "display_name": "Python 3"
  },
  "accelerator": "GPU"
 },
 "nbformat": 4,
 "nbformat_minor": 0
}
