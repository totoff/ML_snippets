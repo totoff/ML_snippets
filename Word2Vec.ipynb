{
 "cells": [
  {
   "cell_type": "code",
   "execution_count": 1,
   "metadata": {
    "collapsed": true
   },
   "outputs": [
    {
     "name": "stderr",
     "output_type": "stream",
     "text": [
      "D:\\Programmes\\Developpement\\Anaconda3\\lib\\site-packages\\gensim\\utils.py:1197: UserWarning: detected Windows; aliasing chunkize to chunkize_serial\n  warnings.warn(\"detected Windows; aliasing chunkize to chunkize_serial\")\n"
     ]
    }
   ],
   "source": [
    "from gensim.test.utils import common_texts, get_tmpfile\n",
    "from gensim.models import Word2Vec\n",
    "\n",
    "path = get_tmpfile(\"word2vec.model\")\n",
    "\n",
    "model = Word2Vec(common_texts, size=100, window=5, min_count=1, workers=4)\n",
    "model.save(\"word2vec.model\")"
   ]
  },
  {
   "cell_type": "code",
   "execution_count": 2,
   "metadata": {},
   "outputs": [
    {
     "data": {
      "text/plain": [
       "(0, 2)"
      ]
     },
     "execution_count": 2,
     "metadata": {},
     "output_type": "execute_result"
    }
   ],
   "source": [
    "model = Word2Vec.load(\"word2vec.model\")\n",
    "model.train([[\"hello\", \"world\"]], total_examples=1, epochs=1)"
   ]
  },
  {
   "cell_type": "code",
   "execution_count": 3,
   "metadata": {},
   "outputs": [],
   "source": [
    "vector = model.wv['computer']  # numpy vector of a word"
   ]
  },
  {
   "cell_type": "code",
   "execution_count": 5,
   "metadata": {},
   "outputs": [
    {
     "data": {
      "text/plain": [
       "array([ 2.91209668e-03, -4.21018247e-03, -3.57454619e-03, -2.49775196e-03,\n       -4.19421401e-03, -4.84584190e-04,  4.41977754e-03,  4.95150685e-03,\n       -6.02174434e-04,  1.59873185e-03, -1.74731598e-03,  3.85121326e-03,\n       -7.15469301e-04, -2.75587849e-03, -4.75009065e-03,  3.11847287e-03,\n       -3.39908758e-03,  6.09481940e-04,  4.80773859e-03, -6.27993781e-04,\n       -1.28090533e-03,  1.95801514e-03,  4.33701603e-03,  6.19645425e-06,\n        2.36628228e-04,  4.71429114e-04,  3.04060592e-03, -1.64073543e-03,\n        2.59760022e-03, -2.39171379e-04,  3.91825801e-03, -8.07627046e-04,\n        3.16675077e-03, -2.29011476e-03,  2.50138924e-03,  1.02699334e-04,\n       -2.52667558e-03,  7.20743556e-04, -1.97405368e-03,  4.93705692e-03,\n        2.06311373e-03,  4.52676322e-03,  3.73606337e-03,  2.71018129e-03,\n       -4.64521069e-03,  3.25316656e-03, -4.65679960e-03, -4.03730525e-03,\n        3.54457810e-03,  3.77344666e-03, -8.29674420e-04,  4.19272948e-03,\n        2.19172169e-03, -2.70925625e-03,  4.34938073e-03, -1.03229843e-03,\n       -3.44230956e-03, -2.08579795e-03, -9.50879359e-04, -3.93075123e-03,\n       -4.02001897e-03,  3.11799790e-03,  3.63477832e-03,  3.49210273e-03,\n        2.87281349e-03,  4.12624143e-03,  1.30969740e-03,  4.06905822e-03,\n       -7.76810106e-04,  4.94549889e-03, -3.96132004e-03,  1.17044488e-03,\n       -1.71745452e-03, -3.26801371e-03,  2.62383488e-03, -3.43511440e-03,\n       -3.76698968e-04,  5.26519958e-04,  1.58773607e-03, -6.81578997e-04,\n        3.27351410e-03,  1.67085149e-03, -4.93745599e-03,  1.79627887e-03,\n        2.88122799e-03, -3.35734803e-03, -2.68179167e-04, -4.14368603e-03,\n       -1.31054502e-03,  3.69388703e-03, -1.78406059e-04,  2.66629318e-03,\n        1.05906057e-03, -6.69313595e-04,  5.20385976e-04, -2.50398158e-03,\n       -4.66248672e-03,  1.93571061e-04, -1.00652175e-03, -1.61324139e-03],\n      dtype=float32)"
      ]
     },
     "execution_count": 5,
     "metadata": {},
     "output_type": "execute_result"
    }
   ],
   "source": [
    "vector"
   ]
  },
  {
   "cell_type": "code",
   "execution_count": null,
   "metadata": {},
   "outputs": [],
   "source": []
  }
 ],
 "metadata": {
  "kernelspec": {
   "display_name": "Python 2",
   "language": "python",
   "name": "python2"
  },
  "language_info": {
   "codemirror_mode": {
    "name": "ipython",
    "version": 2
   },
   "file_extension": ".py",
   "mimetype": "text/x-python",
   "name": "python",
   "nbconvert_exporter": "python",
   "pygments_lexer": "ipython2",
   "version": "2.7.6"
  }
 },
 "nbformat": 4,
 "nbformat_minor": 0
}
