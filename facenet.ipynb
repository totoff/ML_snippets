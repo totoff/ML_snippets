{
 "cells": [
  {
   "cell_type": "code",
   "execution_count": 0,
   "metadata": {
    "id": "v0zHOkJr6Xf_",
    "colab_type": "code",
    "colab": {}
   },
   "outputs": [],
   "source": [
    "import os\n",
    "os.environ['KAGGLE_USERNAME'] = \"xxxxxxx\"\n",
    "os.environ['KAGGLE_KEY'] = \"xxxxxxxxx\""
   ]
  },
  {
   "cell_type": "code",
   "execution_count": 10,
   "metadata": {
    "id": "HO3VzWMt5cU8",
    "colab_type": "code",
    "colab": {
     "base_uri": "https://localhost:8080/",
     "height": 71.0
    },
    "outputId": "13644da5-8207-4312-e140-d26fc4bf033d",
    "executionInfo": {
     "status": "ok",
     "timestamp": 1.566386636778E12,
     "user_tz": -120.0,
     "elapsed": 6455.0,
     "user": {
      "displayName": "Christophe Grihon",
      "photoUrl": "",
      "userId": "17281359019211225799"
     }
    }
   },
   "outputs": [
    {
     "name": "stdout",
     "output_type": "stream",
     "text": [
      "Downloading facenet.zip to /content\n",
      " 80% 65.0M/80.9M [00:02<00:00, 26.8MB/s]\n",
      "100% 80.9M/80.9M [00:02<00:00, 36.6MB/s]\n"
     ]
    }
   ],
   "source": [
    "!kaggle datasets download -d markfleharty/facenet"
   ]
  },
  {
   "cell_type": "code",
   "execution_count": 12,
   "metadata": {
    "id": "0_q1JVrC5gSK",
    "colab_type": "code",
    "colab": {
     "base_uri": "https://localhost:8080/",
     "height": 143.0
    },
    "outputId": "95d41bda-36f4-44bb-81cf-1eef7c0a795b",
    "executionInfo": {
     "status": "ok",
     "timestamp": 1.566386659584E12,
     "user_tz": -120.0,
     "elapsed": 3004.0,
     "user": {
      "displayName": "Christophe Grihon",
      "photoUrl": "",
      "userId": "17281359019211225799"
     }
    }
   },
   "outputs": [
    {
     "name": "stdout",
     "output_type": "stream",
     "text": [
      "total 82900\n",
      "drwxr-xr-x 1 root root     4096 Aug 21 11:23 .\n",
      "drwxr-xr-x 1 root root     4096 Aug 21 11:03 ..\n",
      "drwxr-xr-x 1 root root     4096 Aug 13 16:04 .config\n",
      "-rw-r--r-- 1 root root    10301 Aug 21 11:20 facenet-keras.h5\n",
      "-rw-r--r-- 1 root root 84857690 Aug 21 11:23 facenet.zip\n",
      "drwxr-xr-x 1 root root     4096 Aug  2 16:06 sample_data\n"
     ]
    }
   ],
   "source": [
    "!unzip facenet.zip"
   ]
  },
  {
   "cell_type": "code",
   "execution_count": 17,
   "metadata": {
    "id": "JM1hnQ2068x1",
    "colab_type": "code",
    "colab": {
     "base_uri": "https://localhost:8080/",
     "height": 451.0
    },
    "outputId": "d22df8d3-6a11-487c-acea-e6af52fd4f5a",
    "executionInfo": {
     "status": "ok",
     "timestamp": 1.566386770168E12,
     "user_tz": -120.0,
     "elapsed": 23963.0,
     "user": {
      "displayName": "Christophe Grihon",
      "photoUrl": "",
      "userId": "17281359019211225799"
     }
    }
   },
   "outputs": [
    {
     "name": "stderr",
     "output_type": "stream",
     "text": [
      "Using TensorFlow backend.\n",
      "WARNING: Logging before flag parsing goes to stderr.\n",
      "W0821 11:25:48.011018 140077004556160 deprecation_wrapper.py:119] From /usr/local/lib/python3.6/dist-packages/keras/backend/tensorflow_backend.py:517: The name tf.placeholder is deprecated. Please use tf.compat.v1.placeholder instead.\n",
      "\n",
      "W0821 11:25:48.108060 140077004556160 deprecation_wrapper.py:119] From /usr/local/lib/python3.6/dist-packages/keras/backend/tensorflow_backend.py:4138: The name tf.random_uniform is deprecated. Please use tf.random.uniform instead.\n",
      "\n",
      "W0821 11:25:48.148048 140077004556160 deprecation_wrapper.py:119] From /usr/local/lib/python3.6/dist-packages/keras/backend/tensorflow_backend.py:245: The name tf.get_default_graph is deprecated. Please use tf.compat.v1.get_default_graph instead.\n",
      "\n",
      "W0821 11:25:48.149388 140077004556160 deprecation_wrapper.py:119] From /usr/local/lib/python3.6/dist-packages/keras/backend/tensorflow_backend.py:174: The name tf.get_default_session is deprecated. Please use tf.compat.v1.get_default_session instead.\n",
      "\n",
      "W0821 11:25:48.152170 140077004556160 deprecation_wrapper.py:119] From /usr/local/lib/python3.6/dist-packages/keras/backend/tensorflow_backend.py:181: The name tf.ConfigProto is deprecated. Please use tf.compat.v1.ConfigProto instead.\n",
      "\n",
      "W0821 11:25:51.042923 140077004556160 deprecation_wrapper.py:119] From /usr/local/lib/python3.6/dist-packages/keras/backend/tensorflow_backend.py:1834: The name tf.nn.fused_batch_norm is deprecated. Please use tf.compat.v1.nn.fused_batch_norm instead.\n",
      "\n",
      "W0821 11:25:51.405859 140077004556160 deprecation_wrapper.py:119] From /usr/local/lib/python3.6/dist-packages/keras/backend/tensorflow_backend.py:3976: The name tf.nn.max_pool is deprecated. Please use tf.nn.max_pool2d instead.\n",
      "\n",
      "W0821 11:26:03.391656 140077004556160 deprecation.py:506] From /usr/local/lib/python3.6/dist-packages/keras/backend/tensorflow_backend.py:3445: calling dropout (from tensorflow.python.ops.nn_ops) with keep_prob is deprecated and will be removed in a future version.\n",
      "Instructions for updating:\n",
      "Please use `rate` instead of `keep_prob`. Rate should be set to `rate = 1 - keep_prob`.\n"
     ]
    },
    {
     "name": "stdout",
     "output_type": "stream",
     "text": [
      "[<tf.Tensor 'input_1:0' shape=(?, 160, 160, 3) dtype=float32>]\n",
      "[<tf.Tensor 'Bottleneck_BatchNorm/cond/Merge:0' shape=(?, 128) dtype=float32>]\n"
     ]
    },
    {
     "name": "stderr",
     "output_type": "stream",
     "text": [
      "/usr/local/lib/python3.6/dist-packages/keras/engine/saving.py:292: UserWarning: No training configuration found in save file: the model was *not* compiled. Compile it manually.\n",
      "  warnings.warn('No training configuration found in save file: '\n"
     ]
    }
   ],
   "source": [
    "# example of loading the keras facenet model\n",
    "from keras.models import load_model\n",
    "# load the model\n",
    "model = load_model('facenet_keras.h5')\n",
    "# summarize input and output shape\n",
    "print(model.inputs)\n",
    "print(model.outputs)"
   ]
  },
  {
   "cell_type": "code",
   "execution_count": 18,
   "metadata": {
    "id": "8ogxLL-47PIk",
    "colab_type": "code",
    "colab": {
     "base_uri": "https://localhost:8080/",
     "height": 197.0
    },
    "outputId": "4fe8727d-2fa2-4822-9301-37e479bf5217",
    "executionInfo": {
     "status": "ok",
     "timestamp": 1.566386814084E12,
     "user_tz": -120.0,
     "elapsed": 8651.0,
     "user": {
      "displayName": "Christophe Grihon",
      "photoUrl": "",
      "userId": "17281359019211225799"
     }
    }
   },
   "outputs": [
    {
     "name": "stdout",
     "output_type": "stream",
     "text": [
      "Collecting mtcnn\n",
      "\u001b[?25l  Downloading https://files.pythonhosted.org/packages/9e/c7/8546b18fbd367b156c5bbbbaa8912ab31c8129171523ff8b47b546d70b09/mtcnn-0.0.9.tar.gz (2.3MB)\n",
      "\u001b[K     |████████████████████████████████| 2.3MB 2.9MB/s \n",
      "\u001b[?25hBuilding wheels for collected packages: mtcnn\n",
      "  Building wheel for mtcnn (setup.py) ... \u001b[?25l\u001b[?25hdone\n",
      "  Created wheel for mtcnn: filename=mtcnn-0.0.9-cp36-none-any.whl size=2257692 sha256=3d0c6e645939ecd0ccc4d98e5a2d68dfecd4699e85a1fde04910034521aa743b\n",
      "  Stored in directory: /root/.cache/pip/wheels/85/81/65/6363fa5aafd7a155c896591e0c7c6e27b69642aa82b9cbf076\n",
      "Successfully built mtcnn\n",
      "Installing collected packages: mtcnn\n",
      "Successfully installed mtcnn-0.0.9\n"
     ]
    }
   ],
   "source": [
    "!pip install mtcnn"
   ]
  },
  {
   "cell_type": "code",
   "execution_count": 19,
   "metadata": {
    "id": "CH5o7QsH7k4c",
    "colab_type": "code",
    "colab": {
     "base_uri": "https://localhost:8080/",
     "height": 215.0
    },
    "outputId": "3abb0cb1-a7d3-4eda-fb45-510823b32b17",
    "executionInfo": {
     "status": "ok",
     "timestamp": 1.566386899164E12,
     "user_tz": -120.0,
     "elapsed": 3026.0,
     "user": {
      "displayName": "Christophe Grihon",
      "photoUrl": "",
      "userId": "17281359019211225799"
     }
    }
   },
   "outputs": [
    {
     "name": "stdout",
     "output_type": "stream",
     "text": [
      "--2019-08-21 11:28:17--  https://upload.wikimedia.org/wikipedia/commons/6/6e/Sharon_Stone_Cannes_2013_2.jpg\n",
      "Resolving upload.wikimedia.org (upload.wikimedia.org)... 103.102.166.240, 2001:df2:e500:ed1a::2:b\n",
      "Connecting to upload.wikimedia.org (upload.wikimedia.org)|103.102.166.240|:443... connected.\n",
      "HTTP request sent, awaiting response... 200 OK\n",
      "Length: 82711 (81K) [image/jpeg]\n",
      "Saving to: ‘Sharon_Stone_Cannes_2013_2.jpg’\n",
      "\n",
      "\r          Sharon_St   0%[                    ]       0  --.-KB/s               \rSharon_Stone_Cannes 100%[===================>]  80.77K  --.-KB/s    in 0.1s    \n",
      "\n",
      "2019-08-21 11:28:17 (728 KB/s) - ‘Sharon_Stone_Cannes_2013_2.jpg’ saved [82711/82711]\n",
      "\n"
     ]
    }
   ],
   "source": [
    "!wget https://upload.wikimedia.org/wikipedia/commons/6/6e/Sharon_Stone_Cannes_2013_2.jpg"
   ]
  },
  {
   "cell_type": "code",
   "execution_count": 20,
   "metadata": {
    "id": "lR8PGGbl7dl5",
    "colab_type": "code",
    "colab": {
     "base_uri": "https://localhost:8080/",
     "height": 71.0
    },
    "outputId": "29d908fa-667c-4163-ffab-00f3794b412f",
    "executionInfo": {
     "status": "ok",
     "timestamp": 1.566386982148E12,
     "user_tz": -120.0,
     "elapsed": 3566.0,
     "user": {
      "displayName": "Christophe Grihon",
      "photoUrl": "",
      "userId": "17281359019211225799"
     }
    }
   },
   "outputs": [
    {
     "name": "stdout",
     "output_type": "stream",
     "text": [
      "Downloading 5-celebrity-faces-dataset.zip to /content\n",
      "\r  0% 0.00/2.50M [00:00<?, ?B/s]\n",
      "\r100% 2.50M/2.50M [00:00<00:00, 84.4MB/s]\n"
     ]
    }
   ],
   "source": [
    "!kaggle datasets download -d dansbecker/5-celebrity-faces-dataset"
   ]
  },
  {
   "cell_type": "code",
   "execution_count": 21,
   "metadata": {
    "id": "g4KSp7tq8H3X",
    "colab_type": "code",
    "colab": {
     "base_uri": "https://localhost:8080/",
     "height": 53.0
    },
    "outputId": "57acabdd-ae59-4769-b5e3-3aa068b5853b",
    "executionInfo": {
     "status": "ok",
     "timestamp": 1.566387019977E12,
     "user_tz": -120.0,
     "elapsed": 3503.0,
     "user": {
      "displayName": "Christophe Grihon",
      "photoUrl": "",
      "userId": "17281359019211225799"
     }
    }
   },
   "outputs": [
    {
     "name": "stdout",
     "output_type": "stream",
     "text": [
      "5-celebrity-faces-dataset.zip  facenet.zip  Sharon_Stone_Cannes_2013_2.jpg\n",
      "facenet_keras.h5\t       sample_data\n"
     ]
    }
   ],
   "source": [
    "!ls"
   ]
  },
  {
   "cell_type": "code",
   "execution_count": 22,
   "metadata": {
    "id": "vJzA7kZR8RHo",
    "colab_type": "code",
    "colab": {
     "base_uri": "https://localhost:8080/",
     "height": 53.0
    },
    "outputId": "71a935aa-ac2d-423f-bad2-9ef7c762f4d3",
    "executionInfo": {
     "status": "ok",
     "timestamp": 1.56638703547E12,
     "user_tz": -120.0,
     "elapsed": 3848.0,
     "user": {
      "displayName": "Christophe Grihon",
      "photoUrl": "",
      "userId": "17281359019211225799"
     }
    }
   },
   "outputs": [
    {
     "name": "stdout",
     "output_type": "stream",
     "text": [
      "Archive:  5-celebrity-faces-dataset.zip\n",
      "  inflating: data.zip                \n"
     ]
    }
   ],
   "source": [
    "!unzip 5-celebrity-faces-dataset.zip"
   ]
  },
  {
   "cell_type": "code",
   "execution_count": 23,
   "metadata": {
    "id": "98k0iW0X8U0N",
    "colab_type": "code",
    "colab": {
     "base_uri": "https://localhost:8080/",
     "height": 53.0
    },
    "outputId": "e17c45ac-c8f1-40de-ca26-28b803370c61",
    "executionInfo": {
     "status": "ok",
     "timestamp": 1.566387043306E12,
     "user_tz": -120.0,
     "elapsed": 3811.0,
     "user": {
      "displayName": "Christophe Grihon",
      "photoUrl": "",
      "userId": "17281359019211225799"
     }
    }
   },
   "outputs": [
    {
     "name": "stdout",
     "output_type": "stream",
     "text": [
      "5-celebrity-faces-dataset.zip  facenet_keras.h5  sample_data\n",
      "data.zip\t\t       facenet.zip\t Sharon_Stone_Cannes_2013_2.jpg\n"
     ]
    }
   ],
   "source": [
    "!ls"
   ]
  },
  {
   "cell_type": "code",
   "execution_count": 24,
   "metadata": {
    "id": "c0QHcsTq8Wvl",
    "colab_type": "code",
    "colab": {
     "base_uri": "https://localhost:8080/",
     "height": 1000.0
    },
    "outputId": "f77417a7-2476-4022-fa13-302560a1bf9c",
    "executionInfo": {
     "status": "ok",
     "timestamp": 1.566387059042E12,
     "user_tz": -120.0,
     "elapsed": 3000.0,
     "user": {
      "displayName": "Christophe Grihon",
      "photoUrl": "",
      "userId": "17281359019211225799"
     }
    }
   },
   "outputs": [
    {
     "name": "stdout",
     "output_type": "stream",
     "text": [
      "Archive:  data.zip\n",
      "   creating: train/\n",
      "   creating: train/ben_afflek/\n",
      "  inflating: train/ben_afflek/httpcsvkmeuaeccjpg.jpg  \n",
      "  inflating: train/ben_afflek/httpimagesfandangocomrImageRendererredesignstaticimgnoxportraitjpgpcpcpcimagesmasterrepositoryperformerimagespjpg.jpg  \n",
      "  inflating: train/ben_afflek/httpssmediacacheakpinimgcomxdbbdbbbececacdecdcdfjpg.jpg  \n",
      "  inflating: train/ben_afflek/httpssmediacacheakpinimgcomxdfdfadcfeabjpg.jpg  \n",
      "  inflating: train/ben_afflek/httpssmediacacheakpinimgcomxedaedabcbefbcbabbjpg.jpg  \n",
      "  inflating: train/ben_afflek/httpssmediacacheakpinimgcomxeebdfdbaaajpg.jpg  \n",
      "  inflating: train/ben_afflek/httpssmediacacheakpinimgcomxeeedcacddeccccacfjpg.jpg  \n",
      "  inflating: train/ben_afflek/httpsuploadwikimediaorgwikipediacommonsthumbddBenAffleckbyGageSkidmorejpgpxBenAffleckbyGageSkidmorejpg.jpg  \n",
      "  inflating: train/ben_afflek/httptrwebimgacstanetcxbdddmediasnmediajpg.jpg  \n",
      "  inflating: train/ben_afflek/httpwwwaceshowbizcomimagesphotobenaffleckjpg.jpg  \n",
      "  inflating: train/ben_afflek/httpwwwallposterscomimagesPostersPFjpg.jpg  \n",
      "  inflating: train/ben_afflek/httpwwwfilmscoopitcgibinattoriBENAFFLECKBENAFFLECKjpg.jpg  \n",
      "  inflating: train/ben_afflek/httpwwwhillsindcomstorebenjpg.jpg  \n",
      "  inflating: train/ben_afflek/httpwwwrumenewscomwpcontentuploadsbenafflekxpng.jpg  \n",
      "   creating: train/elton_john/\n",
      "  inflating: train/elton_john/httpftqncomymusicLxZeltonjohnjpg.jpg  \n",
      "  inflating: train/elton_john/httpiamediaimdbcomimagesMMVBMTAxNDUMzUwOTdeQTJeQWpwZBbWUMDUOTAyNTIVUXCRALjpg.jpg  \n",
      "  inflating: train/elton_john/httpimagesmtvcomurimgidfiledocrootvhcomsitewideflipbooksimgdailyjpgenlargefalsemattetruematteColorblackquality.jpg  \n",
      "  inflating: train/elton_john/httpimggalpmdstaticnetfithttpAFFwwwEgalaEfrFvarFgalFstorageFimagesFmediaFmultiuploaddufevrierFeltonjohnFfreFRFeltonjohnEjpgxqualityeltonjohnjpg.jpg  \n",
      "  inflating: train/elton_john/httpmediacacheecpinimgcomxffeffbcefjpg.jpg  \n",
      "  inflating: train/elton_john/httpmediapopsugarassetscomfilescbffewltonjpg.jpg  \n",
      "  inflating: train/elton_john/httpsdfrpwlycscloudfrontnetdeltonjohnjpg.jpg  \n",
      "  inflating: train/elton_john/httpspmctvlinefileswordpresscomeltonjohnjpg.jpg  \n",
      "  inflating: train/elton_john/httpssmediacacheakpinimgcomxfcfcbaeaeddabbjpg.jpg  \n",
      "  inflating: train/elton_john/httpssmediacacheakpinimgcomxfecfecaefaadfebejpg.jpg  \n",
      "  inflating: train/elton_john/httpssmediacacheakpinimgcomxfefdacfbfdeadajpg.jpg  \n",
      "  inflating: train/elton_john/httpsticketmnettmenusdamabbacdaebeafdbbCUSTOMjpg.jpg  \n",
      "  inflating: train/elton_john/httpsuploadwikimediaorgwikipediacommonsthumbEltonJohninsjpgpxEltonJohninsjpg.jpg  \n",
      "  inflating: train/elton_john/httpwwwdeadlinecomvimgnetwpcontentuploadseltonjpg.jpg  \n",
      "  inflating: train/elton_john/httpwwweonlinecomresizewwweonlinecomeolimagesEntireSitersxEltonJohnJRjpg.jpg  \n",
      "  inflating: train/elton_john/httpwwwjohnpauljonesarenacomeventimagesEltonCalendarVjpg.jpg  \n",
      "  inflating: train/elton_john/httpwwwlautdeEltonJohneltonjohnjpg.jpg  \n",
      "   creating: train/jerry_seinfeld/\n",
      "  inflating: train/jerry_seinfeld/httpgraphicsnytimescomimagessectionmoviesfilmographyWireImagejpg.jpg  \n",
      "  inflating: train/jerry_seinfeld/httpikinjaimgcomgawkermediaimageuploadsWmIuhdsrcedidjpgjpg.jpg  \n",
      "  inflating: train/jerry_seinfeld/httpimagescontactmusiccomnewsimagesjerryseinfeldjpg.jpg  \n",
      "  inflating: train/jerry_seinfeld/httpimagesrottentomatoescomimagesspotlightsnewsjerryseinfeldjpg.jpg  \n",
      "  inflating: train/jerry_seinfeld/httpimgthedrumcomsfspublicnewstmpjerryseinfeldjpg.jpg  \n",
      "  inflating: train/jerry_seinfeld/httpimgtimeincnetpeopleinewsjerryseinfeldjpg.jpg  \n",
      "  inflating: train/jerry_seinfeld/httpmediapopsugarassetscomfilesusersxlargejpg.jpg  \n",
      "  inflating: train/jerry_seinfeld/httppfodcompchannelslegacyprofilejerryseinfeldpodcastjpg.jpg  \n",
      "  inflating: train/jerry_seinfeld/httpsmedialivenationcomartiststapjpg.jpg  \n",
      "  inflating: train/jerry_seinfeld/httpsrobertaccetturacomwpcontentuploadsjerryseinfeldheadshotjpg.jpg  \n",
      "  inflating: train/jerry_seinfeld/httpstatictherichestimagescomcdncwpcontentuploadsJerrySeinfeldjpg.jpg  \n",
      "  inflating: train/jerry_seinfeld/httpsticketmnettmenusdbimagesajpg.jpg  \n",
      "  inflating: train/jerry_seinfeld/httpsuploadwikimediaorgwikipediacommonsthumbbJerrySeinfeldjpgpxJerrySeinfeldjpg.jpg  \n",
      "  inflating: train/jerry_seinfeld/httpsuswestamazonawscomblogsprodmediausuploadsJerrySeinfeldkidsxjpg.jpg  \n",
      "  inflating: train/jerry_seinfeld/httpswwwticketscomuploadsartistsjerryseinfeldbilletsjpg.jpg  \n",
      "  inflating: train/jerry_seinfeld/httpwwweonlinecomresizewwweonlinecomeolimagesEntireSitersxjerryseinfeldjulialouisdreyfusjwjpg.jpg  \n",
      "  inflating: train/jerry_seinfeld/httpwwwnndbcompeoplejerryseinfeldaujpg.jpg  \n",
      "  inflating: train/jerry_seinfeld/httpwwwpictureszimbiocomgpJerrySeinfeldJessicaSeinfeldmarriedBczSipMdNMQljpg.jpg  \n",
      "  inflating: train/jerry_seinfeld/httpwwwpsychiatrictimescomsitesdefaultfilesimagesmediaPTMofficSeinfeldjpg.jpg  \n",
      "  inflating: train/jerry_seinfeld/httpwwwslatecomcontentdamslateblogsbrowbeatseinfeldjpgCROParticlemediumjpg.jpg  \n",
      "  inflating: train/jerry_seinfeld/httpwwwwatchidcomsitesdefaultfilesuploadsightingBreitlingwatchJerrySeinfeldjpg.jpg  \n",
      "   creating: train/madonna/\n",
      "  inflating: train/madonna/httpiamediaimdbcomimagesMMVBMTANDQNTAxNDVeQTJeQWpwZBbWUMDIMjQOTYVUXCRALjpg.jpg  \n",
      "  inflating: train/madonna/httpimagegaladevcmseamadonnaprivatdetektivsquaretopsquarejpgv.jpg  \n",
      "  inflating: train/madonna/httpimgclosermagfrvarclosermagstorageimagesactupeoplebiodestarsmadonnamadonnafreFRmadonnaexactxljpg.jpg  \n",
      "  inflating: train/madonna/httpmediavoguecomrwblondesdarkbrowsmadonnajpg.jpg  \n",
      "  inflating: train/madonna/httpresizeparismatchladmediafrrffffffcentermiddleimgvarnewsstorageimagesparismatchpeopleazmadonnafreFRMadonnajpg.jpg  \n",
      "  inflating: train/madonna/httpssmediacacheakpinimgcomxaaeaaeecccaedfebdbjpg.jpg  \n",
      "  inflating: train/madonna/httpssmediacacheakpinimgcomxafafedebcbjpg.jpg  \n",
      "  inflating: train/madonna/httpssmediacacheakpinimgcomxdcfdcfedfaedadjpg.jpg  \n",
      "  inflating: train/madonna/httpssmediacacheakpinimgcomxfeebfdccajpg.jpg  \n",
      "  inflating: train/madonna/httpssmediacacheakpinimgcomxffabffabbbcfbceaedjpg.jpg  \n",
      "  inflating: train/madonna/httpssmediacacheakpinimgcomxffeabacaaejpg.jpg  \n",
      "  inflating: train/madonna/httpssmediacacheakpinimgcomxffecfafddjpg.jpg  \n",
      "  inflating: train/madonna/httpssvagalumecommadonnaimagesmadonnajpg.jpg  \n",
      "  inflating: train/madonna/httpsuploadwikimediaorgwikipediacommonsMadonnathAnnualGoldenGlobesAwardscroppedjpg.jpg  \n",
      "  inflating: train/madonna/httpsuploadwikimediaorgwikipediacommonsthumbaaMadonnaatthepremiereofIAmBecauseWeArejpgpxMadonnaatthepremiereofIAmBecauseWeArejpg.jpg  \n",
      "  inflating: train/madonna/httpuploadwikimediaorgwikipediacommonsthumbaMadonnaRotterdamjpgpxMadonnaRotterdamjpg.jpg  \n",
      "  inflating: train/madonna/httpwwwbeastiemaniacomwhoismadonnamadonnajpg.jpg  \n",
      "  inflating: train/madonna/httpwwwblackdogfilmscomwordpresswpcontentuploadsmadonnacelebrationxjpg.jpg  \n",
      "  inflating: train/madonna/httpwwwetonlinecomphotomadonnabdayjpg.jpg  \n",
      "   creating: train/mindy_kaling/\n",
      "  inflating: train/mindy_kaling/httpgonetworthcomwpcontentuploadsthumbsjpg.jpg  \n",
      "  inflating: train/mindy_kaling/httpgraphicsnytimescomimagesmagazinekalingkalingarticleInlinejpg.jpg  \n",
      "  inflating: train/mindy_kaling/httpimagesnymagcomimagesdailymindykalingxjpg.jpg  \n",
      "  inflating: train/mindy_kaling/httpmediaonsugarcomfilesbabaaaaaMindyInterviewxxxlargejpg.jpg  \n",
      "  inflating: train/mindy_kaling/httppixelnymagcomimgsfashiondailymindykalingwhjpg.jpg  \n",
      "  inflating: train/mindy_kaling/httpsamazonawscomkidzworldphotoimagesbccdddaaadgallerymindykalinggalleryjpg.jpg  \n",
      "  inflating: train/mindy_kaling/httpsimagesnasslimagesamazoncomimagesIAQdwKvFILUXjpg.jpg  \n",
      "  inflating: train/mindy_kaling/httpsimgbuzzfeedcombuzzfeedstaticstaticcampaignimageswebdradorableetsyitemsallmindykalingfansneedbigjpg.jpg  \n",
      "  inflating: train/mindy_kaling/httpssmediacacheakpinimgcomxafaffbbbbdbcbdddjpg.jpg  \n",
      "  inflating: train/mindy_kaling/httpssmediacacheakpinimgcomxbabafeacbaaacabffjpg.jpg  \n",
      "  inflating: train/mindy_kaling/httpssmediacacheakpinimgcomxbbfcbdedfbfdbjpg.jpg  \n",
      "  inflating: train/mindy_kaling/httpssmediacacheakpinimgcomxcccccddbbfedabjpg.jpg  \n",
      "  inflating: train/mindy_kaling/httpssmediacacheakpinimgcomxccccdabeaadjpg.jpg  \n",
      "  inflating: train/mindy_kaling/httpssmediacacheakpinimgcomxededbebccdajpg.jpg  \n",
      "  inflating: train/mindy_kaling/httpssmediacacheakpinimgcomxeedccadejpg.jpg  \n",
      "  inflating: train/mindy_kaling/httpsuploadwikimediaorgwikipediacommonsthumbMindyBKalingBPaleyFestBNewBYorkBBMindyBIqZgUWvbljpgpxMindyBKalingBPaleyFestBNewBYorkBBMindyBIqZgUWvbljpg.jpg  \n",
      "  inflating: train/mindy_kaling/httpwwwadweekcomfilesimagecachenodeinlinemindykalingprofilehedjpg.jpg  \n",
      "  inflating: train/mindy_kaling/httpwwwbooksforbetterlivingcomwpcontentuploadsMindyKalingAuthorPhotojpg.jpg  \n",
      "  inflating: train/mindy_kaling/httpwwweonlinecomeolimagesEntireSiteregKalingCancermhjpg.jpg  \n",
      "  inflating: train/mindy_kaling/httpwwwimpropercomimagesuploadsusercontentimagesSoroffMindyjpg.jpg  \n",
      "  inflating: train/mindy_kaling/httpwwwpictureszimbiocomfpMindyKalingfBgaONVFDFmjpg.jpg  \n",
      "  inflating: train/mindy_kaling/httpwwwpictureszimbiocomgiMindyKalingLkvEhTwDeJmjpg.jpg  \n",
      "   creating: val/\n",
      "   creating: val/ben_afflek/\n",
      "  inflating: val/ben_afflek/httpabsolumentgratuitfreefrimagesbenaffleckjpg.jpg  \n",
      "  inflating: val/ben_afflek/httpafilesbiographycomimageuploadcfillcssrgbdprgfacehqwMTENDgMDUODczNDcNTcjpg.jpg  \n",
      "  inflating: val/ben_afflek/httpbpblogspotcomedLMjVpRGkSWexgsXjkNIAAAAAAAADWgFFtAUqBlhAsjpg.jpg  \n",
      "  inflating: val/ben_afflek/httpcsvkmeuaafdfjpg.jpg  \n",
      "  inflating: val/ben_afflek/httpcsvkmeuadecafjpg.jpg  \n",
      "   creating: val/elton_john/\n",
      "  inflating: val/elton_john/httpafilesbiographycomimageuploadcfillcssrgbdprgfacehqwMTEODAOTcxNjcMjczMjkzjpg.jpg  \n",
      "  inflating: val/elton_john/httpcdncdnjustjaredcomwpcontentuploadsheadlineseltonjohnemmysperformancewatchnowjpg.jpg  \n",
      "  inflating: val/elton_john/httpcdncdnjustjaredcomwpcontentuploadsheadlineseltonjohnstillstandingbrooklynnewyearsjpg.jpg  \n",
      "  inflating: val/elton_john/httpcdncdnjustjaredcomwpcontentuploadsheadlineseltonjohnsupportsbrucejennerstransitiontowomanjpg.jpg  \n",
      "  inflating: val/elton_john/httpcdnlyricssongonlyricsnetwpcontentuploadsEltonJohnDiscographyCDreleasesjpg.jpg  \n",
      "   creating: val/jerry_seinfeld/\n",
      "  inflating: val/jerry_seinfeld/httpafilesbiographycomimageuploadcfillcssrgbdprgfacehqwMTIwNjANjMMDINzIxNjcjpg.jpg  \n",
      "  inflating: val/jerry_seinfeld/httpaurorasblogcomwpcontentuploadsjerryseinfeldpublicityshotjpg.jpg  \n",
      "  inflating: val/jerry_seinfeld/httpblognjcomentertainmentimpactcelebritiesmediumjerrybjpg.jpg  \n",
      "  inflating: val/jerry_seinfeld/httpcdncdnjustjaredcomwpcontentuploadsheadlinesjerryseinfeldmakesbrianwilliamsjokejpg.jpg  \n",
      "  inflating: val/jerry_seinfeld/httpcdnssninsidercomwpcontentuploadsjerryseinfeldxjpg.jpg  \n",
      "   creating: val/madonna/\n",
      "  inflating: val/madonna/httpassetsrollingstonecomassetsarticlemadonnadavidbowiechangedthecourseofmylifeforeversmallsquarexmadonnabowiejpg.jpg  \n",
      "  inflating: val/madonna/httpassetsrollingstonecomassetsimagesalbumreviewaffaceabdcccaeedjpg.jpg  \n",
      "  inflating: val/madonna/httpcdncdnjustjaredcomwpcontentuploadsheadlinesmadonnatalksparisattackstearsjpg.jpg  \n",
      " extracting: val/madonna/httpcdnfuncheapcomwpcontentuploadsVOGUEjpg.jpg  \n",
      "  inflating: val/madonna/httpecximagesamazoncomimagesIfmaBKWLACULSRjpg.jpg  \n",
      "   creating: val/mindy_kaling/\n",
      "  inflating: val/mindy_kaling/httpafilesbiographycomimageuploadcfillcssrgbdprgfacehqwMTIOTcwODQNTUzNjQMzcjpg.jpg  \n",
      "  inflating: val/mindy_kaling/httpcdncdnjustjaredcomwpcontentuploadsheadlinesmindykalingcomedypilotjpg.jpg  \n",
      "  inflating: val/mindy_kaling/httpcdnpastemagazinecomwwwarticlesmindykalingndbookjpg.jpg  \n",
      "  inflating: val/mindy_kaling/httpcdnpastemagazinecomwwwarticlesmindyprojectjpg.jpg  \n",
      "  inflating: val/mindy_kaling/httpdbrbzkkbdsdcloudfrontnetwpcontentuploadsMindyKalingjpg.jpg  \n"
     ]
    }
   ],
   "source": [
    "!unzip data.zip"
   ]
  },
  {
   "cell_type": "code",
   "execution_count": 25,
   "metadata": {
    "id": "LFwz043m8ax8",
    "colab_type": "code",
    "colab": {
     "base_uri": "https://localhost:8080/",
     "height": 71.0
    },
    "outputId": "0557cb2b-0b6b-4265-d4db-6c50e16a9235",
    "executionInfo": {
     "status": "ok",
     "timestamp": 1.566387072367E12,
     "user_tz": -120.0,
     "elapsed": 3003.0,
     "user": {
      "displayName": "Christophe Grihon",
      "photoUrl": "",
      "userId": "17281359019211225799"
     }
    }
   },
   "outputs": [
    {
     "name": "stdout",
     "output_type": "stream",
     "text": [
      "5-celebrity-faces-dataset.zip  facenet.zip\t\t       train\n",
      "data.zip\t\t       sample_data\t\t       val\n",
      "facenet_keras.h5\t       Sharon_Stone_Cannes_2013_2.jpg\n"
     ]
    }
   ],
   "source": [
    "!ls"
   ]
  },
  {
   "cell_type": "code",
   "execution_count": 0,
   "metadata": {
    "id": "HHq2mKfd8eCM",
    "colab_type": "code",
    "colab": {}
   },
   "outputs": [],
   "source": [
    "mkdir 5-celebrity-faces-dataset"
   ]
  },
  {
   "cell_type": "code",
   "execution_count": 0,
   "metadata": {
    "id": "L10H_aDe8hBr",
    "colab_type": "code",
    "colab": {}
   },
   "outputs": [],
   "source": [
    "mv train/ 5-celebrity-faces-dataset/"
   ]
  },
  {
   "cell_type": "code",
   "execution_count": 0,
   "metadata": {
    "id": "sxmMKBPo8k-j",
    "colab_type": "code",
    "colab": {}
   },
   "outputs": [],
   "source": [
    "mv val 5-celebrity-faces-dataset/"
   ]
  },
  {
   "cell_type": "code",
   "execution_count": 29,
   "metadata": {
    "id": "IIOTnIBz8nZy",
    "colab_type": "code",
    "colab": {
     "base_uri": "https://localhost:8080/",
     "height": 627.0
    },
    "outputId": "d6ec075f-485d-44a9-957b-16ab0f2744a3",
    "executionInfo": {
     "status": "ok",
     "timestamp": 1.566387203699E12,
     "user_tz": -120.0,
     "elapsed": 31780.0,
     "user": {
      "displayName": "Christophe Grihon",
      "photoUrl": "",
      "userId": "17281359019211225799"
     }
    }
   },
   "outputs": [
    {
     "name": "stderr",
     "output_type": "stream",
     "text": [
      "W0821 11:32:52.573343 140077004556160 deprecation.py:506] From /usr/local/lib/python3.6/dist-packages/tensorflow/python/ops/init_ops.py:1251: calling VarianceScaling.__init__ (from tensorflow.python.ops.init_ops) with dtype is deprecated and will be removed in a future version.\n",
      "Instructions for updating:\n",
      "Call initializer instance with the dtype argument instead of passing it to the constructor\n",
      "W0821 11:32:52.710089 140077004556160 deprecation.py:323] From /usr/local/lib/python3.6/dist-packages/mtcnn/layer_factory.py:221: div (from tensorflow.python.ops.math_ops) is deprecated and will be removed in a future version.\n",
      "Instructions for updating:\n",
      "Deprecated in favor of operator or tf.math.divide.\n",
      "W0821 11:32:53.003680 140077004556160 deprecation_wrapper.py:119] From /usr/local/lib/python3.6/dist-packages/mtcnn/layer_factory.py:196: The name tf.nn.xw_plus_b is deprecated. Please use tf.compat.v1.nn.xw_plus_b instead.\n",
      "\n"
     ]
    },
    {
     "name": "stdout",
     "output_type": "stream",
     "text": [
      "1 (160, 160, 3)\n",
      "2 (160, 160, 3)\n",
      "3 (160, 160, 3)\n",
      "4 (160, 160, 3)\n",
      "5 (160, 160, 3)\n",
      "6 (160, 160, 3)\n",
      "7 (160, 160, 3)\n",
      "8 (160, 160, 3)\n",
      "9 (160, 160, 3)\n",
      "10 (160, 160, 3)\n",
      "11 (160, 160, 3)\n",
      "12 (160, 160, 3)\n",
      "13 (160, 160, 3)\n",
      "14 (160, 160, 3)\n"
     ]
    },
    {
     "data": {
      "image/png": "[encoded data removed]",
      "text/plain": [
       "<Figure size 432x288 with 14 Axes>"
      ]
     },
     "metadata": {
      "tags": []
     },
     "output_type": "display_data"
    }
   ],
   "source": [
    "# demonstrate face detection on 5 Celebrity Faces Dataset\n",
    "from os import listdir\n",
    "from PIL import Image\n",
    "from numpy import asarray\n",
    "from matplotlib import pyplot\n",
    "from mtcnn.mtcnn import MTCNN\n",
    "\n",
    "# extract a single face from a given photograph\n",
    "def extract_face(filename, required_size=(160, 160)):\n",
    "\t# load image from file\n",
    "\timage = Image.open(filename)\n",
    "\t# convert to RGB, if needed\n",
    "\timage = image.convert('RGB')\n",
    "\t# convert to array\n",
    "\tpixels = asarray(image)\n",
    "\t# create the detector, using default weights\n",
    "\tdetector = MTCNN()\n",
    "\t# detect faces in the image\n",
    "\tresults = detector.detect_faces(pixels)\n",
    "\t# extract the bounding box from the first face\n",
    "\tx1, y1, width, height = results[0]['box']\n",
    "\t# bug fix\n",
    "\tx1, y1 = abs(x1), abs(y1)\n",
    "\tx2, y2 = x1 + width, y1 + height\n",
    "\t# extract the face\n",
    "\tface = pixels[y1:y2, x1:x2]\n",
    "\t# resize pixels to the model size\n",
    "\timage = Image.fromarray(face)\n",
    "\timage = image.resize(required_size)\n",
    "\tface_array = asarray(image)\n",
    "\treturn face_array\n",
    "\n",
    "# specify folder to plot\n",
    "folder = '5-celebrity-faces-dataset/train/ben_afflek/'\n",
    "i = 1\n",
    "# enumerate files\n",
    "for filename in listdir(folder):\n",
    "\t# path\n",
    "\tpath = folder + filename\n",
    "\t# get face\n",
    "\tface = extract_face(path)\n",
    "\tprint(i, face.shape)\n",
    "\t# plot\n",
    "\tpyplot.subplot(2, 7, i)\n",
    "\tpyplot.axis('off')\n",
    "\tpyplot.imshow(face)\n",
    "\ti += 1\n",
    "pyplot.show()"
   ]
  },
  {
   "cell_type": "code",
   "execution_count": 30,
   "metadata": {
    "id": "wh1bGyU683Eb",
    "colab_type": "code",
    "colab": {
     "base_uri": "https://localhost:8080/",
     "height": 215.0
    },
    "outputId": "21870702-8cac-4fcb-980e-1a142ac6a73a",
    "executionInfo": {
     "status": "ok",
     "timestamp": 1.566387571413E12,
     "user_tz": -120.0,
     "elapsed": 230208.0,
     "user": {
      "displayName": "Christophe Grihon",
      "photoUrl": "",
      "userId": "17281359019211225799"
     }
    }
   },
   "outputs": [
    {
     "name": "stdout",
     "output_type": "stream",
     "text": [
      ">loaded 17 examples for class: elton_john\n",
      ">loaded 22 examples for class: mindy_kaling\n",
      ">loaded 14 examples for class: ben_afflek\n",
      ">loaded 19 examples for class: madonna\n",
      ">loaded 21 examples for class: jerry_seinfeld\n",
      "(93, 160, 160, 3) (93,)\n",
      ">loaded 5 examples for class: elton_john\n",
      ">loaded 5 examples for class: mindy_kaling\n",
      ">loaded 5 examples for class: ben_afflek\n",
      ">loaded 5 examples for class: madonna\n",
      ">loaded 5 examples for class: jerry_seinfeld\n"
     ]
    }
   ],
   "source": [
    "# face detection for the 5 Celebrity Faces Dataset\n",
    "from os import listdir\n",
    "from os.path import isdir\n",
    "from PIL import Image\n",
    "from matplotlib import pyplot\n",
    "from numpy import savez_compressed\n",
    "from numpy import asarray\n",
    "from mtcnn.mtcnn import MTCNN\n",
    "\n",
    "# extract a single face from a given photograph\n",
    "def extract_face(filename, required_size=(160, 160)):\n",
    "\t# load image from file\n",
    "\timage = Image.open(filename)\n",
    "\t# convert to RGB, if needed\n",
    "\timage = image.convert('RGB')\n",
    "\t# convert to array\n",
    "\tpixels = asarray(image)\n",
    "\t# create the detector, using default weights\n",
    "\tdetector = MTCNN()\n",
    "\t# detect faces in the image\n",
    "\tresults = detector.detect_faces(pixels)\n",
    "\t# extract the bounding box from the first face\n",
    "\tx1, y1, width, height = results[0]['box']\n",
    "\t# bug fix\n",
    "\tx1, y1 = abs(x1), abs(y1)\n",
    "\tx2, y2 = x1 + width, y1 + height\n",
    "\t# extract the face\n",
    "\tface = pixels[y1:y2, x1:x2]\n",
    "\t# resize pixels to the model size\n",
    "\timage = Image.fromarray(face)\n",
    "\timage = image.resize(required_size)\n",
    "\tface_array = asarray(image)\n",
    "\treturn face_array\n",
    "\n",
    "# load images and extract faces for all images in a directory\n",
    "def load_faces(directory):\n",
    "\tfaces = list()\n",
    "\t# enumerate files\n",
    "\tfor filename in listdir(directory):\n",
    "\t\t# path\n",
    "\t\tpath = directory + filename\n",
    "\t\t# get face\n",
    "\t\tface = extract_face(path)\n",
    "\t\t# store\n",
    "\t\tfaces.append(face)\n",
    "\treturn faces\n",
    "\n",
    "# load a dataset that contains one subdir for each class that in turn contains images\n",
    "def load_dataset(directory):\n",
    "\tX, y = list(), list()\n",
    "\t# enumerate folders, on per class\n",
    "\tfor subdir in listdir(directory):\n",
    "\t\t# path\n",
    "\t\tpath = directory + subdir + '/'\n",
    "\t\t# skip any files that might be in the dir\n",
    "\t\tif not isdir(path):\n",
    "\t\t\tcontinue\n",
    "\t\t# load all faces in the subdirectory\n",
    "\t\tfaces = load_faces(path)\n",
    "\t\t# create labels\n",
    "\t\tlabels = [subdir for _ in range(len(faces))]\n",
    "\t\t# summarize progress\n",
    "\t\tprint('>loaded %d examples for class: %s' % (len(faces), subdir))\n",
    "\t\t# store\n",
    "\t\tX.extend(faces)\n",
    "\t\ty.extend(labels)\n",
    "\treturn asarray(X), asarray(y)\n",
    "\n",
    "# load train dataset\n",
    "trainX, trainy = load_dataset('5-celebrity-faces-dataset/train/')\n",
    "print(trainX.shape, trainy.shape)\n",
    "# load test dataset\n",
    "testX, testy = load_dataset('5-celebrity-faces-dataset/val/')\n",
    "# save arrays to one file in compressed format\n",
    "savez_compressed('5-celebrity-faces-dataset.npz', trainX, trainy, testX, testy)"
   ]
  },
  {
   "cell_type": "code",
   "execution_count": 31,
   "metadata": {
    "id": "a9qn9vIG9gXF",
    "colab_type": "code",
    "colab": {
     "base_uri": "https://localhost:8080/",
     "height": 145.0
    },
    "outputId": "4afae2d6-5852-45f3-b985-9ce7592cdb52",
    "executionInfo": {
     "status": "ok",
     "timestamp": 1.566387666062E12,
     "user_tz": -120.0,
     "elapsed": 28773.0,
     "user": {
      "displayName": "Christophe Grihon",
      "photoUrl": "",
      "userId": "17281359019211225799"
     }
    }
   },
   "outputs": [
    {
     "name": "stdout",
     "output_type": "stream",
     "text": [
      "Loaded:  (93, 160, 160, 3) (93,) (25, 160, 160, 3) (25,)\n"
     ]
    },
    {
     "name": "stderr",
     "output_type": "stream",
     "text": [
      "/usr/local/lib/python3.6/dist-packages/keras/engine/saving.py:292: UserWarning: No training configuration found in save file: the model was *not* compiled. Compile it manually.\n",
      "  warnings.warn('No training configuration found in save file: '\n"
     ]
    },
    {
     "name": "stdout",
     "output_type": "stream",
     "text": [
      "Loaded Model\n",
      "(93, 128)\n",
      "(25, 128)\n"
     ]
    }
   ],
   "source": [
    "# calculate a face embedding for each face in the dataset using facenet\n",
    "from numpy import load\n",
    "from numpy import expand_dims\n",
    "from numpy import asarray\n",
    "from numpy import savez_compressed\n",
    "from keras.models import load_model\n",
    "\n",
    "# get the face embedding for one face\n",
    "def get_embedding(model, face_pixels):\n",
    "\t# scale pixel values\n",
    "\tface_pixels = face_pixels.astype('float32')\n",
    "\t# standardize pixel values across channels (global)\n",
    "\tmean, std = face_pixels.mean(), face_pixels.std()\n",
    "\tface_pixels = (face_pixels - mean) / std\n",
    "\t# transform face into one sample\n",
    "\tsamples = expand_dims(face_pixels, axis=0)\n",
    "\t# make prediction to get embedding\n",
    "\tyhat = model.predict(samples)\n",
    "\treturn yhat[0]\n",
    "\n",
    "# load the face dataset\n",
    "data = load('5-celebrity-faces-dataset.npz')\n",
    "trainX, trainy, testX, testy = data['arr_0'], data['arr_1'], data['arr_2'], data['arr_3']\n",
    "print('Loaded: ', trainX.shape, trainy.shape, testX.shape, testy.shape)\n",
    "# load the facenet model\n",
    "model = load_model('facenet_keras.h5')\n",
    "print('Loaded Model')\n",
    "# convert each face in the train set to an embedding\n",
    "newTrainX = list()\n",
    "for face_pixels in trainX:\n",
    "\tembedding = get_embedding(model, face_pixels)\n",
    "\tnewTrainX.append(embedding)\n",
    "newTrainX = asarray(newTrainX)\n",
    "print(newTrainX.shape)\n",
    "# convert each face in the test set to an embedding\n",
    "newTestX = list()\n",
    "for face_pixels in testX:\n",
    "\tembedding = get_embedding(model, face_pixels)\n",
    "\tnewTestX.append(embedding)\n",
    "newTestX = asarray(newTestX)\n",
    "print(newTestX.shape)\n",
    "# save arrays to one file in compressed format\n",
    "savez_compressed('5-celebrity-faces-embeddings.npz', newTrainX, trainy, newTestX, testy)"
   ]
  },
  {
   "cell_type": "code",
   "execution_count": 32,
   "metadata": {
    "id": "ivEC4Z_8-XmP",
    "colab_type": "code",
    "colab": {
     "base_uri": "https://localhost:8080/",
     "height": 53.0
    },
    "outputId": "b2f2328f-aa55-4d3a-b72a-fd7e58063a27",
    "executionInfo": {
     "status": "ok",
     "timestamp": 1.566387904905E12,
     "user_tz": -120.0,
     "elapsed": 1496.0,
     "user": {
      "displayName": "Christophe Grihon",
      "photoUrl": "",
      "userId": "17281359019211225799"
     }
    }
   },
   "outputs": [
    {
     "name": "stdout",
     "output_type": "stream",
     "text": [
      "Dataset: train=93, test=25\n",
      "Accuracy: train=100.000, test=100.000\n"
     ]
    }
   ],
   "source": [
    "# develop a classifier for the 5 Celebrity Faces Dataset\n",
    "from numpy import load\n",
    "from sklearn.metrics import accuracy_score\n",
    "from sklearn.preprocessing import LabelEncoder\n",
    "from sklearn.preprocessing import Normalizer\n",
    "from sklearn.svm import SVC\n",
    "# load dataset\n",
    "data = load('5-celebrity-faces-embeddings.npz')\n",
    "trainX, trainy, testX, testy = data['arr_0'], data['arr_1'], data['arr_2'], data['arr_3']\n",
    "print('Dataset: train=%d, test=%d' % (trainX.shape[0], testX.shape[0]))\n",
    "# normalize input vectors\n",
    "in_encoder = Normalizer(norm='l2')\n",
    "trainX = in_encoder.transform(trainX)\n",
    "testX = in_encoder.transform(testX)\n",
    "# label encode targets\n",
    "out_encoder = LabelEncoder()\n",
    "out_encoder.fit(trainy)\n",
    "trainy = out_encoder.transform(trainy)\n",
    "testy = out_encoder.transform(testy)\n",
    "# fit model\n",
    "model = SVC(kernel='linear', probability=True)\n",
    "model.fit(trainX, trainy)\n",
    "# predict\n",
    "yhat_train = model.predict(trainX)\n",
    "yhat_test = model.predict(testX)\n",
    "# score\n",
    "score_train = accuracy_score(trainy, yhat_train)\n",
    "score_test = accuracy_score(testy, yhat_test)\n",
    "# summarize\n",
    "print('Accuracy: train=%.3f, test=%.3f' % (score_train*100, score_test*100))"
   ]
  },
  {
   "cell_type": "code",
   "execution_count": 36,
   "metadata": {
    "id": "xEvQa1CL_pnR",
    "colab_type": "code",
    "colab": {
     "base_uri": "https://localhost:8080/",
     "height": 317.0
    },
    "outputId": "37a48df7-3e1d-4c19-d477-75f602b48cad",
    "executionInfo": {
     "status": "ok",
     "timestamp": 1.566388155765E12,
     "user_tz": -120.0,
     "elapsed": 1198.0,
     "user": {
      "displayName": "Christophe Grihon",
      "photoUrl": "",
      "userId": "17281359019211225799"
     }
    }
   },
   "outputs": [
    {
     "name": "stdout",
     "output_type": "stream",
     "text": [
      "Predicted: madonna (87.281)\n",
      "Expected: madonna\n"
     ]
    },
    {
     "data": {
      "image/png": "[encoded data removed]",
      "text/plain": [
       "<Figure size 432x288 with 1 Axes>"
      ]
     },
     "metadata": {
      "tags": []
     },
     "output_type": "display_data"
    }
   ],
   "source": [
    "# develop a classifier for the 5 Celebrity Faces Dataset\n",
    "from random import choice\n",
    "from numpy import load\n",
    "from numpy import expand_dims\n",
    "from sklearn.preprocessing import LabelEncoder\n",
    "from sklearn.preprocessing import Normalizer\n",
    "from sklearn.svm import SVC\n",
    "from matplotlib import pyplot\n",
    "# load faces\n",
    "data = load('5-celebrity-faces-dataset.npz')\n",
    "testX_faces = data['arr_2']\n",
    "# load face embeddings\n",
    "data = load('5-celebrity-faces-embeddings.npz')\n",
    "trainX, trainy, testX, testy = data['arr_0'], data['arr_1'], data['arr_2'], data['arr_3']\n",
    "# normalize input vectors\n",
    "in_encoder = Normalizer(norm='l2')\n",
    "trainX = in_encoder.transform(trainX)\n",
    "testX = in_encoder.transform(testX)\n",
    "# label encode targets\n",
    "out_encoder = LabelEncoder()\n",
    "out_encoder.fit(trainy)\n",
    "trainy = out_encoder.transform(trainy)\n",
    "testy = out_encoder.transform(testy)\n",
    "# fit model\n",
    "model = SVC(kernel='linear', probability=True)\n",
    "model.fit(trainX, trainy)\n",
    "# test model on a random example from the test dataset\n",
    "selection = choice([i for i in range(testX.shape[0])])\n",
    "random_face_pixels = testX_faces[selection]\n",
    "random_face_emb = testX[selection]\n",
    "random_face_class = testy[selection]\n",
    "random_face_name = out_encoder.inverse_transform([random_face_class])\n",
    "# prediction for the face\n",
    "samples = expand_dims(random_face_emb, axis=0)\n",
    "yhat_class = model.predict(samples)\n",
    "yhat_prob = model.predict_proba(samples)\n",
    "# get name\n",
    "class_index = yhat_class[0]\n",
    "class_probability = yhat_prob[0,class_index] * 100\n",
    "predict_names = out_encoder.inverse_transform(yhat_class)\n",
    "print('Predicted: %s (%.3f)' % (predict_names[0], class_probability))\n",
    "print('Expected: %s' % random_face_name[0])\n",
    "# plot for fun\n",
    "pyplot.imshow(random_face_pixels)\n",
    "title = '%s (%.3f)' % (predict_names[0], class_probability)\n",
    "pyplot.title(title)\n",
    "pyplot.show()"
   ]
  }
 ],
 "metadata": {
  "colab": {
   "name": "facenet.ipynb",
   "version": "0.3.2",
   "provenance": []
  },
  "kernelspec": {
   "name": "python3",
   "display_name": "Python 3"
  },
  "accelerator": "GPU"
 },
 "nbformat": 4,
 "nbformat_minor": 0
}
